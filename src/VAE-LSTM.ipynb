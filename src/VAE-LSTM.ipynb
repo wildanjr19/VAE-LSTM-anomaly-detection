{
 "cells": [
  {
   "cell_type": "markdown",
   "id": "f1873a38",
   "metadata": {},
   "source": [
    "# Set Up"
   ]
  },
  {
   "cell_type": "code",
   "execution_count": 7,
   "id": "b0bcaf4b",
   "metadata": {},
   "outputs": [],
   "source": [
    "import torch\n",
    "import torch.nn as nn\n",
    "from torch.utils.data import Dataset, DataLoader\n",
    "import numpy as np\n",
    "import matplotlib.pyplot as plt \n",
    "import pandas as pd"
   ]
  },
  {
   "cell_type": "code",
   "execution_count": 2,
   "id": "e93da8ea",
   "metadata": {},
   "outputs": [],
   "source": [
    "# atur seed global untuk reproduksibilitas\n",
    "torch.manual_seed(42)\n",
    "# seed untuk GPU\n",
    "torch.cuda.manual_seed(42)"
   ]
  },
  {
   "cell_type": "code",
   "execution_count": 8,
   "id": "1e025636",
   "metadata": {},
   "outputs": [],
   "source": [
    "device = torch.device(\"cuda\" if torch.cuda.is_available() else \"cpu\")"
   ]
  },
  {
   "cell_type": "markdown",
   "id": "62bc695e",
   "metadata": {},
   "source": [
    "# Dataset"
   ]
  },
  {
   "cell_type": "markdown",
   "id": "4ff4d8ce",
   "metadata": {},
   "source": [
    "## Import Data"
   ]
  },
  {
   "cell_type": "code",
   "execution_count": 11,
   "id": "c8e30a9b",
   "metadata": {},
   "outputs": [
    {
     "data": {
      "application/vnd.microsoft.datawrangler.viewer.v0+json": {
       "columns": [
        {
         "name": "index",
         "rawType": "int64",
         "type": "integer"
        },
        {
         "name": "value",
         "rawType": "float64",
         "type": "float"
        }
       ],
       "ref": "ebe87de8-becd-42e2-ae13-7166b85aee96",
       "rows": [
        [
         "0",
         "0.132"
        ],
        [
         "1",
         "0.134"
        ],
        [
         "2",
         "0.134"
        ],
        [
         "3",
         "0.134"
        ],
        [
         "4",
         "0.134"
        ],
        [
         "5",
         "0.134"
        ],
        [
         "6",
         "0.134"
        ],
        [
         "7",
         "0.134"
        ],
        [
         "8",
         "0.066"
        ],
        [
         "9",
         "0.132"
        ],
        [
         "10",
         "0.134"
        ],
        [
         "11",
         "0.066"
        ],
        [
         "12",
         "0.132"
        ],
        [
         "13",
         "0.2019999999999999"
        ],
        [
         "14",
         "0.068"
        ],
        [
         "15",
         "0.134"
        ],
        [
         "16",
         "0.132"
        ],
        [
         "17",
         "0.134"
        ],
        [
         "18",
         "0.134"
        ],
        [
         "19",
         "0.136"
        ],
        [
         "20",
         "0.132"
        ],
        [
         "21",
         "0.134"
        ],
        [
         "22",
         "0.134"
        ],
        [
         "23",
         "0.066"
        ],
        [
         "24",
         "0.134"
        ],
        [
         "25",
         "0.134"
        ],
        [
         "26",
         "0.066"
        ],
        [
         "27",
         "0.134"
        ],
        [
         "28",
         "0.134"
        ],
        [
         "29",
         "0.134"
        ],
        [
         "30",
         "0.132"
        ],
        [
         "31",
         "0.136"
        ],
        [
         "32",
         "0.134"
        ],
        [
         "33",
         "0.134"
        ],
        [
         "34",
         "0.132"
        ],
        [
         "35",
         "0.132"
        ],
        [
         "36",
         "0.134"
        ],
        [
         "37",
         "0.134"
        ],
        [
         "38",
         "0.066"
        ],
        [
         "39",
         "0.134"
        ],
        [
         "40",
         "0.134"
        ],
        [
         "41",
         "0.2019999999999999"
        ],
        [
         "42",
         "0.134"
        ],
        [
         "43",
         "0.134"
        ],
        [
         "44",
         "0.134"
        ],
        [
         "45",
         "0.068"
        ],
        [
         "46",
         "0.132"
        ],
        [
         "47",
         "0.134"
        ],
        [
         "48",
         "0.134"
        ],
        [
         "49",
         "0.134"
        ]
       ],
       "shape": {
        "columns": 1,
        "rows": 4032
       }
      },
      "text/html": [
       "<div>\n",
       "<style scoped>\n",
       "    .dataframe tbody tr th:only-of-type {\n",
       "        vertical-align: middle;\n",
       "    }\n",
       "\n",
       "    .dataframe tbody tr th {\n",
       "        vertical-align: top;\n",
       "    }\n",
       "\n",
       "    .dataframe thead th {\n",
       "        text-align: right;\n",
       "    }\n",
       "</style>\n",
       "<table border=\"1\" class=\"dataframe\">\n",
       "  <thead>\n",
       "    <tr style=\"text-align: right;\">\n",
       "      <th></th>\n",
       "      <th>value</th>\n",
       "    </tr>\n",
       "  </thead>\n",
       "  <tbody>\n",
       "    <tr>\n",
       "      <th>0</th>\n",
       "      <td>0.132</td>\n",
       "    </tr>\n",
       "    <tr>\n",
       "      <th>1</th>\n",
       "      <td>0.134</td>\n",
       "    </tr>\n",
       "    <tr>\n",
       "      <th>2</th>\n",
       "      <td>0.134</td>\n",
       "    </tr>\n",
       "    <tr>\n",
       "      <th>3</th>\n",
       "      <td>0.134</td>\n",
       "    </tr>\n",
       "    <tr>\n",
       "      <th>4</th>\n",
       "      <td>0.134</td>\n",
       "    </tr>\n",
       "    <tr>\n",
       "      <th>...</th>\n",
       "      <td>...</td>\n",
       "    </tr>\n",
       "    <tr>\n",
       "      <th>4027</th>\n",
       "      <td>0.132</td>\n",
       "    </tr>\n",
       "    <tr>\n",
       "      <th>4028</th>\n",
       "      <td>0.134</td>\n",
       "    </tr>\n",
       "    <tr>\n",
       "      <th>4029</th>\n",
       "      <td>0.134</td>\n",
       "    </tr>\n",
       "    <tr>\n",
       "      <th>4030</th>\n",
       "      <td>0.134</td>\n",
       "    </tr>\n",
       "    <tr>\n",
       "      <th>4031</th>\n",
       "      <td>0.134</td>\n",
       "    </tr>\n",
       "  </tbody>\n",
       "</table>\n",
       "<p>4032 rows × 1 columns</p>\n",
       "</div>"
      ],
      "text/plain": [
       "      value\n",
       "0     0.132\n",
       "1     0.134\n",
       "2     0.134\n",
       "3     0.134\n",
       "4     0.134\n",
       "...     ...\n",
       "4027  0.132\n",
       "4028  0.134\n",
       "4029  0.134\n",
       "4030  0.134\n",
       "4031  0.134\n",
       "\n",
       "[4032 rows x 1 columns]"
      ]
     },
     "execution_count": 11,
     "metadata": {},
     "output_type": "execute_result"
    }
   ],
   "source": [
    "data = pd.read_csv(r\"D:\\Willy's Project\\Project\\VAE LSTM Anomaly Detection\\data\\ec2_cpu_utilization_24ae8d.csv\")\n",
    "\n",
    "# ambil 1 kolom sebagai fiture\n",
    "data = data.drop(columns=['timestamp'])\n",
    "data"
   ]
  },
  {
   "cell_type": "code",
   "execution_count": 14,
   "id": "814d0de8",
   "metadata": {},
   "outputs": [
    {
     "name": "stdout",
     "output_type": "stream",
     "text": [
      "Train data size: (3225, 1)\n",
      "Test data size: (807, 1)\n"
     ]
    }
   ],
   "source": [
    "# bagi dataset menjadi train dan test\n",
    "train_ratio = 0.8\n",
    "train_size = int(len(data) * train_ratio)\n",
    "\n",
    "train_data = data[:train_size]\n",
    "test_data = data[train_size:]\n",
    "\n",
    "# lihat ukuran data train dan test\n",
    "print(f\"Train data size: {train_data.shape}\")\n",
    "print(f\"Test data size: {test_data.shape}\")"
   ]
  },
  {
   "cell_type": "markdown",
   "id": "af917824",
   "metadata": {},
   "source": [
    "## Visualisasi Data"
   ]
  },
  {
   "cell_type": "code",
   "execution_count": null,
   "id": "4b16de25",
   "metadata": {},
   "outputs": [
    {
     "data": {
      "image/png": "[encoded data removed]",
      "text/plain": [
       "<Figure size 1200x500 with 1 Axes>"
      ]
     },
     "metadata": {},
     "output_type": "display_data"
    }
   ],
   "source": [
    "plt.figure(figsize=(12,5))\n",
    "plt.plot(train_data, label='Train Data')\n",
    "plt.plot(range(len(train_data), len(train_data)+len(test_data)), test_data, label='Test Data')\n",
    "plt.xlabel('Index')\n",
    "plt.ylabel('CPU Utilization')\n",
    "plt.title('Train vs Test Data')\n",
    "plt.legend()\n",
    "plt.show()"
   ]
  },
  {
   "cell_type": "markdown",
   "id": "3253eec6",
   "metadata": {},
   "source": [
    "## Dataset and  DataLoader"
   ]
  },
  {
   "cell_type": "code",
   "execution_count": 12,
   "id": "667d5828",
   "metadata": {},
   "outputs": [],
   "source": [
    "# kelas dataset\n",
    "class CPUDataset(Dataset):\n",
    "    def __init__(self, data, seq_length=1):\n",
    "        self.data = torch.tensor(data, dtype=torch.float32)\n",
    "        self.seq_length = seq_length\n",
    "\n",
    "    def __len__(self):\n",
    "        return len(self.data) - self.seq_length\n",
    "    \n",
    "    def __getitem__(self, idx):\n",
    "        x = self.data[idx:idx + self.seq_length]\n",
    "        return x.unsqueeze(1)"
   ]
  },
  {
   "cell_type": "code",
   "execution_count": 16,
   "id": "41097141",
   "metadata": {},
   "outputs": [],
   "source": [
    "train_dataset = CPUDataset(train_data.values, seq_length=1)\n",
    "test_dataset = CPUDataset(test_data.values, seq_length=1)"
   ]
  },
  {
   "cell_type": "code",
   "execution_count": 17,
   "id": "5c670c3b",
   "metadata": {},
   "outputs": [],
   "source": [
    "train_loader = DataLoader(train_dataset, batch_size=64, shuffle=True)\n",
    "test_loader = DataLoader(test_dataset, batch_size=64, shuffle=False)"
   ]
  },
  {
   "cell_type": "markdown",
   "id": "c0acf425",
   "metadata": {},
   "source": [
    "# Model"
   ]
  },
  {
   "cell_type": "code",
   "execution_count": null,
   "id": "bc374a79",
   "metadata": {},
   "outputs": [],
   "source": [
    "class VAELSTM(nn.Module):\n",
    "    def __init__(self, input_dim = 1, hidden_dim = 32, latent_dim = 16):\n",
    "        super(VAELSTM, self).__init__()\n",
    "        self.hidden_dim = hidden_dim\n",
    "        self.laten_dim = latent_dim\n",
    "\n",
    "        # encoder\n",
    "        self.encoder = nn.LSTM(input_dim, hidden_dim, batch_first=True)\n",
    "\n",
    "        # latent \n",
    "        self.hidden_to_mu = nn.Linear(hidden_dim, latent_dim)\n",
    "        self.hidden_to_logvar = nn.Linear(hidden_dim, latent_dim)\n",
    "\n",
    "        self.latent_to_hidden = nn.Linear(latent_dim, hidden_dim)\n",
    "\n",
    "        # decoder\n",
    "        self.decoder = nn.LSTM(input_dim, hidden_dim, batch_first=True)\n",
    "        self.output = nn.Linear(hidden_dim, input_dim)\n",
    "\n",
    "        def encode(self, x)\n",
    "            _, (h, _) = self.encoder(x)\n",
    "            h = h[-1]\n",
    "            mu = self.hidden_to_mu(h)\n",
    "            logvar = self.hidden_to_logvar(h)\n",
    "            return mu, logvar\n"
   ]
  }
 ],
 "metadata": {
  "kernelspec": {
   "display_name": "Python 3",
   "language": "python",
   "name": "python3"
  },
  "language_info": {
   "codemirror_mode": {
    "name": "ipython",
    "version": 3
   },
   "file_extension": ".py",
   "mimetype": "text/x-python",
   "name": "python",
   "nbconvert_exporter": "python",
   "pygments_lexer": "ipython3",
   "version": "3.11.0"
  }
 },
 "nbformat": 4,
 "nbformat_minor": 5
}
